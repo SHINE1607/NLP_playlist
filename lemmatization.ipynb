{
 "cells": [
  {
   "cell_type": "code",
   "execution_count": 1,
   "metadata": {},
   "outputs": [],
   "source": [
    "import nltk \n"
   ]
  },
  {
   "cell_type": "code",
   "execution_count": 2,
   "metadata": {},
   "outputs": [],
   "source": [
    "from nltk.stem import WordNetLemmatizer\n",
    "from nltk.corpus import stopwords\n"
   ]
  },
  {
   "cell_type": "code",
   "execution_count": 3,
   "metadata": {},
   "outputs": [],
   "source": [
    "\n",
    "paragraph = \"\"\"“In life, we’ve seen, within this part of the \n",
    "world, great people, like Al-Khawarizmi who invented algorithm. \n",
    "Globally, Newton. Henry Ford, the Wright Brothers, \n",
    "Albert Einstein and Elon Musk. See, you are in rush, \n",
    "You want to go to places that nobody has been. \n",
    "You are re-inventing a certain industry, from the rocket \n",
    "industry with SpaceX to the car industry with Tesla. \n",
    "What’s your life mission? Why do you do whatever you do?\n",
    "Sure, first of all, thank you for having me. \n",
    "It’s an honor to be here. And I’m having a really great \n",
    "time with my kids in Dubai. It’s really been fantastic. \n",
    "I really encourage anyone who hasn’t been to visit, what a \n",
    "great city! Thank you.\n",
    "\n",
    "And, in terms of the motivations, I used to like this sort of… \n",
    "kind of a long version of the explanation but… essentially, \n",
    "when I was a kid I was wondering, what’s the meaning of life? \n",
    "Like, why are we here? What is it all about? And I came to the \n",
    "conclusion that what really matters is trying to understand the \n",
    "right questions to ask. And the more that we can increase the \n",
    "scope and scale of human consciousness, the better we’re able \n",
    "to ask these questions. And… So, I think there are certain \n",
    "things that are necessary to ensure that the future is good. \n",
    "And… some of those things are in the long term having long term \n",
    "sustainable transport and sustainable energy generation. \n",
    "And to be a space exploring civilization. And for humanity to \n",
    "be out there among the stars. And be a multi-planetary species. \n",
    "I think that being a multi-planetary species and being out there \n",
    "among the stars is important for the long-term survival of humanity. \n",
    "And, that’s one reason, kind of like life insurance for life \n",
    "collectively. Life as we know it. But then the part that I find \n",
    "personally most motivating is that it creates a sense of adventure, \n",
    "and it makes people excited about the future. If you consider two \n",
    "futures, one where we are forever confined to Earth until eventually \n",
    "something terrible happens. Or another future where we are out there \n",
    "on many planets, maybe even going beyond the solar system. I think that space \n",
    "invasion is incredibly exciting and inspiring. And there need to \n",
    "be reasons to get up in the morning. You know, life can’t just \n",
    "be about solving problems. Otherwise, what’s the point? There’s got to be \n",
    "things that people find inspiring and make life worth living.\"\"\"\n"
   ]
  },
  {
   "cell_type": "code",
   "execution_count": 4,
   "metadata": {},
   "outputs": [],
   "source": [
    "              \n",
    "sentences = nltk.sent_tokenize(paragraph)\n",
    "lemmatizer = WordNetLemmatizer()\n",
    "\n",
    "# Lemmatization\n",
    "for i in range(len(sentences)):\n",
    "    words = nltk.word_tokenize(sentences[i])\n",
    "    words = [lemmatizer.lemmatize(word) for word in words if word not in set(stopwords.words('english'))]\n",
    "    sentences[i] = ' '.join(words)     "
   ]
  },
  {
   "cell_type": "code",
   "execution_count": 6,
   "metadata": {},
   "outputs": [
    {
     "data": {
      "text/plain": [
       "['“ In life , ’ seen , within part world , great people , like Al-Khawarizmi invented algorithm .',\n",
       " 'Globally , Newton .',\n",
       " 'Henry Ford , Wright Brothers , Albert Einstein Elon Musk .',\n",
       " 'See , rush , You want go place nobody .',\n",
       " 'You re-inventing certain industry , rocket industry SpaceX car industry Tesla .',\n",
       " 'What ’ life mission ?',\n",
       " 'Why whatever ?',\n",
       " 'Sure , first , thank .',\n",
       " 'It ’ honor .',\n",
       " 'And I ’ really great time kid Dubai .',\n",
       " 'It ’ really fantastic .',\n",
       " 'I really encourage anyone ’ visit , great city !',\n",
       " 'Thank .',\n",
       " 'And , term motivation , I used like sort of… kind long version explanation but… essentially , I kid I wondering , ’ meaning life ?',\n",
       " 'Like , ?',\n",
       " 'What ?',\n",
       " 'And I came conclusion really matter trying understand right question ask .',\n",
       " 'And increase scope scale human consciousness , better ’ able ask question .',\n",
       " 'And… So , I think certain thing necessary ensure future good .',\n",
       " 'And… thing long term long term sustainable transport sustainable energy generation .',\n",
       " 'And space exploring civilization .',\n",
       " 'And humanity among star .',\n",
       " 'And multi-planetary specie .',\n",
       " 'I think multi-planetary specie among star important long-term survival humanity .',\n",
       " 'And , ’ one reason , kind like life insurance life collectively .',\n",
       " 'Life know .',\n",
       " 'But part I find personally motivating creates sense adventure , make people excited future .',\n",
       " 'If consider two future , one forever confined Earth eventually something terrible happens .',\n",
       " 'Or another future many planet , maybe even going beyond solar system .',\n",
       " 'I think space invasion incredibly exciting inspiring .',\n",
       " 'And need reason get morning .',\n",
       " 'You know , life ’ solving problem .',\n",
       " 'Otherwise , ’ point ?',\n",
       " 'There ’ got thing people find inspiring make life worth living .']"
      ]
     },
     "execution_count": 6,
     "metadata": {},
     "output_type": "execute_result"
    }
   ],
   "source": []
  },
  {
   "cell_type": "code",
   "execution_count": null,
   "metadata": {},
   "outputs": [],
   "source": []
  }
 ],
 "metadata": {
  "kernelspec": {
   "display_name": "Python 3",
   "language": "python",
   "name": "python3"
  },
  "language_info": {
   "codemirror_mode": {
    "name": "ipython",
    "version": 3
   },
   "file_extension": ".py",
   "mimetype": "text/x-python",
   "name": "python",
   "nbconvert_exporter": "python",
   "pygments_lexer": "ipython3",
   "version": "3.7.5"
  }
 },
 "nbformat": 4,
 "nbformat_minor": 4
}
